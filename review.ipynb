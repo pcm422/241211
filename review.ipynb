{
 "cells": [
  {
   "cell_type": "markdown",
   "metadata": {},
   "source": [
    "- pwd\n",
    "    - 현재 작업 중인 디렉토리의 절대 경로를 출력\n",
    "\n",
    "- cp\n",
    "    - 파일이나 디렉토리를 복사\n",
    "    \n",
    "- rm\n",
    "    - 파일이나 디렉토리를 삭제\n",
    "\n",
    "- mkdir\n",
    "    - 새로운 디렉토리를 생성\n",
    "\n",
    "- touch\n",
    "    - 새로운 빈 파일을 생성하거나 기존 파일의 수정 시간을 변경\n",
    "\n",
    "- locate\n",
    "    - 파일 시스템에서 파일을 빠르게 찾음. updatedb 명령어로 데이터베이스를 갱신해야 사용 가능\n",
    "\n",
    "- mv\n",
    "    - 파일이나 디렉토리를 이동하거나 이름을 변경\n",
    "\n",
    "- ls\n",
    "    - 현재 디렉토리의 파일과 디렉토리 목록을 출력"
   ]
  }
 ],
 "metadata": {
  "language_info": {
   "name": "python"
  }
 },
 "nbformat": 4,
 "nbformat_minor": 2
}
